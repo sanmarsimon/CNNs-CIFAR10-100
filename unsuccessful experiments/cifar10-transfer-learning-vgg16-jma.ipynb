{
 "cells": [
  {
   "cell_type": "code",
   "execution_count": 1,
   "metadata": {
    "_cell_guid": "b1076dfc-b9ad-4769-8c92-a6c4dae69d19",
    "_uuid": "8f2839f25d086af736a60e9eeb907d3b93b6e0e5",
    "execution": {
     "iopub.execute_input": "2020-09-10T11:58:24.519091Z",
     "iopub.status.busy": "2020-09-10T11:58:24.518482Z",
     "iopub.status.idle": "2020-09-10T11:58:25.530812Z",
     "shell.execute_reply": "2020-09-10T11:58:25.529795Z"
    },
    "papermill": {
     "duration": 1.037969,
     "end_time": "2020-09-10T11:58:25.530961",
     "exception": false,
     "start_time": "2020-09-10T11:58:24.492992",
     "status": "completed"
    },
    "tags": []
   },
   "outputs": [],
   "source": [
    "# Pandas and Numpy for data structures and util fucntions\n",
    "import scipy as sp\n",
    "import numpy as np\n",
    "import pandas as pd\n",
    "from numpy.random import rand\n",
    "pd.options.display.max_colwidth = 600\n",
    "\n",
    "# Scikit Imports\n",
    "from sklearn import preprocessing\n",
    "from sklearn.metrics import roc_curve, auc, precision_recall_curve\n",
    "from sklearn.model_selection import train_test_split\n",
    "\n",
    "\n",
    "# Matplot Imports\n",
    "import matplotlib.pyplot as plt\n",
    "params = {'legend.fontsize': 'x-large',\n",
    "          'figure.figsize': (15, 5),\n",
    "          'axes.labelsize': 'x-large',\n",
    "          'axes.titlesize':'x-large',\n",
    "          'xtick.labelsize':'x-large',\n",
    "          'ytick.labelsize':'x-large'}\n",
    "\n",
    "plt.rcParams.update(params)\n",
    "%matplotlib inline\n",
    "\n",
    "# pandas display data frames as tables\n",
    "from IPython.display import display, HTML\n",
    "\n",
    "import warnings\n",
    "warnings.filterwarnings('ignore')"
   ]
  },
  {
   "cell_type": "code",
   "execution_count": 2,
   "metadata": {
    "_cell_guid": "79c7e3d0-c299-4dcb-8224-4455121ee9b0",
    "_uuid": "d629ff2d2480ee46fbb7e2d37f6b5fab8052498a",
    "execution": {
     "iopub.execute_input": "2020-09-10T11:58:25.561999Z",
     "iopub.status.busy": "2020-09-10T11:58:25.561387Z",
     "iopub.status.idle": "2020-09-10T11:58:31.509795Z",
     "shell.execute_reply": "2020-09-10T11:58:31.508674Z"
    },
    "papermill": {
     "duration": 5.966644,
     "end_time": "2020-09-10T11:58:31.509918",
     "exception": false,
     "start_time": "2020-09-10T11:58:25.543274",
     "status": "completed"
    },
    "tags": []
   },
   "outputs": [],
   "source": [
    "import tensorflow as tf\n",
    "from keras import callbacks\n",
    "from keras import optimizers\n",
    "from keras.datasets import cifar10\n",
    "from keras.engine import Model\n",
    "from keras.applications import vgg16 as vgg\n",
    "from keras.layers import Dropout, Flatten, Dense, GlobalAveragePooling2D,BatchNormalization\n",
    "from keras.preprocessing.image import ImageDataGenerator\n",
    "from keras.utils import np_utils"
   ]
  },
  {
   "cell_type": "code",
   "execution_count": 3,
   "metadata": {
    "execution": {
     "iopub.execute_input": "2020-09-10T11:58:31.540311Z",
     "iopub.status.busy": "2020-09-10T11:58:31.538512Z",
     "iopub.status.idle": "2020-09-10T11:58:31.540963Z",
     "shell.execute_reply": "2020-09-10T11:58:31.541438Z"
    },
    "papermill": {
     "duration": 0.019173,
     "end_time": "2020-09-10T11:58:31.541555",
     "exception": false,
     "start_time": "2020-09-10T11:58:31.522382",
     "status": "completed"
    },
    "tags": []
   },
   "outputs": [],
   "source": [
    "BATCH_SIZE = 32\n",
    "EPOCHS = 40\n",
    "NUM_CLASSES = 10\n",
    "LEARNING_RATE = 1e-4\n",
    "MOMENTUM = 0.9"
   ]
  },
  {
   "cell_type": "code",
   "execution_count": 4,
   "metadata": {
    "execution": {
     "iopub.execute_input": "2020-09-10T11:58:31.570897Z",
     "iopub.status.busy": "2020-09-10T11:58:31.570083Z",
     "iopub.status.idle": "2020-09-10T11:58:36.084875Z",
     "shell.execute_reply": "2020-09-10T11:58:36.084172Z"
    },
    "papermill": {
     "duration": 4.531675,
     "end_time": "2020-09-10T11:58:36.084992",
     "exception": false,
     "start_time": "2020-09-10T11:58:31.553317",
     "status": "completed"
    },
    "tags": []
   },
   "outputs": [
    {
     "name": "stdout",
     "output_type": "stream",
     "text": [
      "Downloading data from https://www.cs.toronto.edu/~kriz/cifar-10-python.tar.gz\n",
      "170500096/170498071 [==============================] - 2s 0us/step\n"
     ]
    }
   ],
   "source": [
    "(X_train, y_train), (X_test, y_test) = cifar10.load_data()"
   ]
  },
  {
   "cell_type": "code",
   "execution_count": 5,
   "metadata": {
    "execution": {
     "iopub.execute_input": "2020-09-10T11:58:36.168851Z",
     "iopub.status.busy": "2020-09-10T11:58:36.163697Z",
     "iopub.status.idle": "2020-09-10T11:58:36.526877Z",
     "shell.execute_reply": "2020-09-10T11:58:36.526316Z"
    },
    "papermill": {
     "duration": 0.41323,
     "end_time": "2020-09-10T11:58:36.527025",
     "exception": false,
     "start_time": "2020-09-10T11:58:36.113795",
     "status": "completed"
    },
    "tags": []
   },
   "outputs": [],
   "source": [
    "X_train, X_val, y_train, y_val = train_test_split(X_train, \n",
    "                                                  y_train, \n",
    "                                                  test_size=0.15, \n",
    "                                                  stratify=np.array(y_train), \n",
    "                                                  random_state=42)"
   ]
  },
  {
   "cell_type": "code",
   "execution_count": 6,
   "metadata": {
    "execution": {
     "iopub.execute_input": "2020-09-10T11:58:36.594336Z",
     "iopub.status.busy": "2020-09-10T11:58:36.593432Z",
     "iopub.status.idle": "2020-09-10T11:58:36.597980Z",
     "shell.execute_reply": "2020-09-10T11:58:36.597507Z"
    },
    "papermill": {
     "duration": 0.041875,
     "end_time": "2020-09-10T11:58:36.598082",
     "exception": false,
     "start_time": "2020-09-10T11:58:36.556207",
     "status": "completed"
    },
    "tags": []
   },
   "outputs": [],
   "source": [
    "Y_train = np_utils.to_categorical(y_train, NUM_CLASSES)\n",
    "Y_val = np_utils.to_categorical(y_val, NUM_CLASSES)\n",
    "Y_test = np_utils.to_categorical(y_test, NUM_CLASSES)"
   ]
  },
  {
   "cell_type": "code",
   "execution_count": 7,
   "metadata": {
    "execution": {
     "iopub.execute_input": "2020-09-10T11:58:36.674586Z",
     "iopub.status.busy": "2020-09-10T11:58:36.673777Z",
     "iopub.status.idle": "2020-09-10T11:58:40.480580Z",
     "shell.execute_reply": "2020-09-10T11:58:40.479717Z"
    },
    "papermill": {
     "duration": 3.848552,
     "end_time": "2020-09-10T11:58:40.480693",
     "exception": false,
     "start_time": "2020-09-10T11:58:36.632141",
     "status": "completed"
    },
    "tags": []
   },
   "outputs": [
    {
     "name": "stdout",
     "output_type": "stream",
     "text": [
      "Downloading data from https://storage.googleapis.com/tensorflow/keras-applications/vgg16/vgg16_weights_tf_dim_ordering_tf_kernels_notop.h5\n",
      "58892288/58889256 [==============================] - 0s 0us/step\n"
     ]
    }
   ],
   "source": [
    "base_model = vgg.VGG16(weights='imagenet', \n",
    "                       include_top=False, \n",
    "                       input_shape=(48, 48, 3))"
   ]
  },
  {
   "cell_type": "code",
   "execution_count": 8,
   "metadata": {
    "execution": {
     "iopub.execute_input": "2020-09-10T11:58:40.552599Z",
     "iopub.status.busy": "2020-09-10T11:58:40.550764Z",
     "iopub.status.idle": "2020-09-10T11:58:40.553294Z",
     "shell.execute_reply": "2020-09-10T11:58:40.553768Z"
    },
    "papermill": {
     "duration": 0.040373,
     "end_time": "2020-09-10T11:58:40.553889",
     "exception": false,
     "start_time": "2020-09-10T11:58:40.513516",
     "status": "completed"
    },
    "tags": []
   },
   "outputs": [],
   "source": [
    "# Extract the last layer from third block of vgg16 model\n",
    "last = base_model.get_layer('block3_pool').output"
   ]
  },
  {
   "cell_type": "code",
   "execution_count": 9,
   "metadata": {
    "execution": {
     "iopub.execute_input": "2020-09-10T11:58:40.629008Z",
     "iopub.status.busy": "2020-09-10T11:58:40.628368Z",
     "iopub.status.idle": "2020-09-10T11:58:40.716480Z",
     "shell.execute_reply": "2020-09-10T11:58:40.717011Z"
    },
    "papermill": {
     "duration": 0.130373,
     "end_time": "2020-09-10T11:58:40.717218",
     "exception": false,
     "start_time": "2020-09-10T11:58:40.586845",
     "status": "completed"
    },
    "tags": []
   },
   "outputs": [],
   "source": [
    "# Add classification layers on top of it\n",
    "x = GlobalAveragePooling2D()(last)\n",
    "x= BatchNormalization()(x)\n",
    "x = Dense(256, activation='relu')(x)\n",
    "x = Dense(256, activation='relu')(x)\n",
    "x = Dropout(0.6)(x)\n",
    "pred = Dense(NUM_CLASSES, activation='softmax')(x)\n",
    "model = Model(base_model.input, pred)"
   ]
  },
  {
   "cell_type": "code",
   "execution_count": 10,
   "metadata": {
    "execution": {
     "iopub.execute_input": "2020-09-10T11:58:40.801156Z",
     "iopub.status.busy": "2020-09-10T11:58:40.799148Z",
     "iopub.status.idle": "2020-09-10T11:58:40.802019Z",
     "shell.execute_reply": "2020-09-10T11:58:40.802614Z"
    },
    "papermill": {
     "duration": 0.04745,
     "end_time": "2020-09-10T11:58:40.802755",
     "exception": false,
     "start_time": "2020-09-10T11:58:40.755305",
     "status": "completed"
    },
    "tags": []
   },
   "outputs": [],
   "source": [
    "for layer in base_model.layers:\n",
    "     layer.trainable = False"
   ]
  },
  {
   "cell_type": "code",
   "execution_count": 11,
   "metadata": {
    "execution": {
     "iopub.execute_input": "2020-09-10T11:58:40.889354Z",
     "iopub.status.busy": "2020-09-10T11:58:40.888639Z",
     "iopub.status.idle": "2020-09-10T11:58:40.898545Z",
     "shell.execute_reply": "2020-09-10T11:58:40.898044Z"
    },
    "papermill": {
     "duration": 0.057004,
     "end_time": "2020-09-10T11:58:40.898650",
     "exception": false,
     "start_time": "2020-09-10T11:58:40.841646",
     "status": "completed"
    },
    "tags": []
   },
   "outputs": [],
   "source": [
    "model.compile(loss='binary_crossentropy',\n",
    "              optimizer=optimizers.Adam(lr=LEARNING_RATE),\n",
    "              metrics=['accuracy'])"
   ]
  },
  {
   "cell_type": "code",
   "execution_count": 12,
   "metadata": {
    "execution": {
     "iopub.execute_input": "2020-09-10T11:58:40.984835Z",
     "iopub.status.busy": "2020-09-10T11:58:40.973298Z",
     "iopub.status.idle": "2020-09-10T11:58:40.991399Z",
     "shell.execute_reply": "2020-09-10T11:58:40.990584Z"
    },
    "papermill": {
     "duration": 0.057003,
     "end_time": "2020-09-10T11:58:40.991571",
     "exception": false,
     "start_time": "2020-09-10T11:58:40.934568",
     "status": "completed"
    },
    "tags": []
   },
   "outputs": [
    {
     "name": "stdout",
     "output_type": "stream",
     "text": [
      "Model: \"functional_1\"\n",
      "_________________________________________________________________\n",
      "Layer (type)                 Output Shape              Param #   \n",
      "=================================================================\n",
      "input_1 (InputLayer)         [(None, 48, 48, 3)]       0         \n",
      "_________________________________________________________________\n",
      "block1_conv1 (Conv2D)        (None, 48, 48, 64)        1792      \n",
      "_________________________________________________________________\n",
      "block1_conv2 (Conv2D)        (None, 48, 48, 64)        36928     \n",
      "_________________________________________________________________\n",
      "block1_pool (MaxPooling2D)   (None, 24, 24, 64)        0         \n",
      "_________________________________________________________________\n",
      "block2_conv1 (Conv2D)        (None, 24, 24, 128)       73856     \n",
      "_________________________________________________________________\n",
      "block2_conv2 (Conv2D)        (None, 24, 24, 128)       147584    \n",
      "_________________________________________________________________\n",
      "block2_pool (MaxPooling2D)   (None, 12, 12, 128)       0         \n",
      "_________________________________________________________________\n",
      "block3_conv1 (Conv2D)        (None, 12, 12, 256)       295168    \n",
      "_________________________________________________________________\n",
      "block3_conv2 (Conv2D)        (None, 12, 12, 256)       590080    \n",
      "_________________________________________________________________\n",
      "block3_conv3 (Conv2D)        (None, 12, 12, 256)       590080    \n",
      "_________________________________________________________________\n",
      "block3_pool (MaxPooling2D)   (None, 6, 6, 256)         0         \n",
      "_________________________________________________________________\n",
      "global_average_pooling2d (Gl (None, 256)               0         \n",
      "_________________________________________________________________\n",
      "batch_normalization (BatchNo (None, 256)               1024      \n",
      "_________________________________________________________________\n",
      "dense (Dense)                (None, 256)               65792     \n",
      "_________________________________________________________________\n",
      "dense_1 (Dense)              (None, 256)               65792     \n",
      "_________________________________________________________________\n",
      "dropout (Dropout)            (None, 256)               0         \n",
      "_________________________________________________________________\n",
      "dense_2 (Dense)              (None, 10)                2570      \n",
      "=================================================================\n",
      "Total params: 1,870,666\n",
      "Trainable params: 134,666\n",
      "Non-trainable params: 1,736,000\n",
      "_________________________________________________________________\n"
     ]
    }
   ],
   "source": [
    "model.summary()"
   ]
  },
  {
   "cell_type": "code",
   "execution_count": 13,
   "metadata": {
    "execution": {
     "iopub.execute_input": "2020-09-10T11:58:41.095058Z",
     "iopub.status.busy": "2020-09-10T11:58:41.094076Z",
     "iopub.status.idle": "2020-09-10T11:58:41.098396Z",
     "shell.execute_reply": "2020-09-10T11:58:41.099054Z"
    },
    "papermill": {
     "duration": 0.063986,
     "end_time": "2020-09-10T11:58:41.099267",
     "exception": false,
     "start_time": "2020-09-10T11:58:41.035281",
     "status": "completed"
    },
    "tags": []
   },
   "outputs": [],
   "source": [
    "# prepare data augmentation configuration\n",
    "train_datagen = ImageDataGenerator(\n",
    "    rescale=1. / 255,\n",
    "    horizontal_flip=False)"
   ]
  },
  {
   "cell_type": "code",
   "execution_count": 14,
   "metadata": {
    "execution": {
     "iopub.execute_input": "2020-09-10T11:58:41.216638Z",
     "iopub.status.busy": "2020-09-10T11:58:41.215640Z",
     "iopub.status.idle": "2020-09-10T11:58:41.757540Z",
     "shell.execute_reply": "2020-09-10T11:58:41.756940Z"
    },
    "papermill": {
     "duration": 0.604859,
     "end_time": "2020-09-10T11:58:41.757668",
     "exception": false,
     "start_time": "2020-09-10T11:58:41.152809",
     "status": "completed"
    },
    "tags": []
   },
   "outputs": [],
   "source": [
    "train_datagen.fit(X_train)\n",
    "train_generator = train_datagen.flow(X_train,\n",
    "                                     Y_train, \n",
    "                                     batch_size=BATCH_SIZE)"
   ]
  },
  {
   "cell_type": "code",
   "execution_count": 15,
   "metadata": {
    "execution": {
     "iopub.execute_input": "2020-09-10T11:58:42.033364Z",
     "iopub.status.busy": "2020-09-10T11:58:42.031863Z",
     "iopub.status.idle": "2020-09-10T11:58:42.128249Z",
     "shell.execute_reply": "2020-09-10T11:58:42.127543Z"
    },
    "papermill": {
     "duration": 0.328552,
     "end_time": "2020-09-10T11:58:42.128383",
     "exception": false,
     "start_time": "2020-09-10T11:58:41.799831",
     "status": "completed"
    },
    "tags": []
   },
   "outputs": [],
   "source": [
    "val_datagen = ImageDataGenerator(rescale=1. / 255,\n",
    "    horizontal_flip=False)\n",
    "\n",
    "val_datagen.fit(X_val)\n",
    "val_generator = val_datagen.flow(X_val,\n",
    "                                 Y_val,\n",
    "                                 batch_size=BATCH_SIZE)"
   ]
  },
  {
   "cell_type": "code",
   "execution_count": 16,
   "metadata": {
    "execution": {
     "iopub.execute_input": "2020-09-10T11:58:42.536774Z",
     "iopub.status.busy": "2020-09-10T11:58:42.535888Z",
     "iopub.status.idle": "2020-09-10T12:03:05.472351Z",
     "shell.execute_reply": "2020-09-10T12:03:05.473066Z"
    },
    "papermill": {
     "duration": 262.9849,
     "end_time": "2020-09-10T12:03:05.473267",
     "exception": false,
     "start_time": "2020-09-10T11:58:42.488367",
     "status": "completed"
    },
    "tags": []
   },
   "outputs": [
    {
     "name": "stdout",
     "output_type": "stream",
     "text": [
      "Epoch 1/40\n",
      "1328/1328 [==============================] - 7s 5ms/step - loss: 0.2545 - accuracy: 0.4035 - val_loss: 0.1903 - val_accuracy: 0.5951\n",
      "Epoch 2/40\n",
      "1328/1328 [==============================] - 6s 4ms/step - loss: 0.1999 - accuracy: 0.5535 - val_loss: 0.1667 - val_accuracy: 0.6404\n",
      "Epoch 3/40\n",
      "1328/1328 [==============================] - 7s 5ms/step - loss: 0.1827 - accuracy: 0.5984 - val_loss: 0.1555 - val_accuracy: 0.6704\n",
      "Epoch 4/40\n",
      "1328/1328 [==============================] - 7s 5ms/step - loss: 0.1706 - accuracy: 0.6278 - val_loss: 0.1477 - val_accuracy: 0.6852\n",
      "Epoch 5/40\n",
      "1328/1328 [==============================] - 6s 5ms/step - loss: 0.1634 - accuracy: 0.6492 - val_loss: 0.1422 - val_accuracy: 0.6948\n",
      "Epoch 6/40\n",
      "1328/1328 [==============================] - 6s 5ms/step - loss: 0.1572 - accuracy: 0.6627 - val_loss: 0.1389 - val_accuracy: 0.7047\n",
      "Epoch 7/40\n",
      "1328/1328 [==============================] - 6s 5ms/step - loss: 0.1522 - accuracy: 0.6753 - val_loss: 0.1354 - val_accuracy: 0.7053\n",
      "Epoch 8/40\n",
      "1328/1328 [==============================] - 6s 5ms/step - loss: 0.1479 - accuracy: 0.6828 - val_loss: 0.1328 - val_accuracy: 0.7115\n",
      "Epoch 9/40\n",
      "1328/1328 [==============================] - 6s 5ms/step - loss: 0.1447 - accuracy: 0.6895 - val_loss: 0.1311 - val_accuracy: 0.7155\n",
      "Epoch 10/40\n",
      "1328/1328 [==============================] - 7s 5ms/step - loss: 0.1414 - accuracy: 0.7015 - val_loss: 0.1292 - val_accuracy: 0.7204\n",
      "Epoch 11/40\n",
      "1328/1328 [==============================] - 6s 5ms/step - loss: 0.1388 - accuracy: 0.7052 - val_loss: 0.1278 - val_accuracy: 0.7250\n",
      "Epoch 12/40\n",
      "1328/1328 [==============================] - 6s 5ms/step - loss: 0.1368 - accuracy: 0.7116 - val_loss: 0.1269 - val_accuracy: 0.7268\n",
      "Epoch 13/40\n",
      "1328/1328 [==============================] - 7s 5ms/step - loss: 0.1349 - accuracy: 0.7153 - val_loss: 0.1257 - val_accuracy: 0.7306\n",
      "Epoch 14/40\n",
      "1328/1328 [==============================] - 7s 5ms/step - loss: 0.1321 - accuracy: 0.7223 - val_loss: 0.1249 - val_accuracy: 0.7316\n",
      "Epoch 15/40\n",
      "1328/1328 [==============================] - 6s 5ms/step - loss: 0.1312 - accuracy: 0.7239 - val_loss: 0.1232 - val_accuracy: 0.7358\n",
      "Epoch 16/40\n",
      "1328/1328 [==============================] - 6s 4ms/step - loss: 0.1282 - accuracy: 0.7304 - val_loss: 0.1229 - val_accuracy: 0.7358\n",
      "Epoch 17/40\n",
      "1328/1328 [==============================] - 7s 5ms/step - loss: 0.1273 - accuracy: 0.7318 - val_loss: 0.1218 - val_accuracy: 0.7350\n",
      "Epoch 18/40\n",
      "1328/1328 [==============================] - 7s 5ms/step - loss: 0.1255 - accuracy: 0.7353 - val_loss: 0.1206 - val_accuracy: 0.7421\n",
      "Epoch 19/40\n",
      "1328/1328 [==============================] - 7s 5ms/step - loss: 0.1244 - accuracy: 0.7395 - val_loss: 0.1214 - val_accuracy: 0.7392\n",
      "Epoch 20/40\n",
      "1328/1328 [==============================] - 6s 5ms/step - loss: 0.1221 - accuracy: 0.7444 - val_loss: 0.1194 - val_accuracy: 0.7409\n",
      "Epoch 21/40\n",
      "1328/1328 [==============================] - 6s 4ms/step - loss: 0.1199 - accuracy: 0.7473 - val_loss: 0.1190 - val_accuracy: 0.7428\n",
      "Epoch 22/40\n",
      "1328/1328 [==============================] - 7s 5ms/step - loss: 0.1190 - accuracy: 0.7512 - val_loss: 0.1198 - val_accuracy: 0.7453\n",
      "Epoch 23/40\n",
      "1328/1328 [==============================] - 6s 5ms/step - loss: 0.1180 - accuracy: 0.7548 - val_loss: 0.1187 - val_accuracy: 0.7480\n",
      "Epoch 24/40\n",
      "1328/1328 [==============================] - 6s 5ms/step - loss: 0.1170 - accuracy: 0.7559 - val_loss: 0.1183 - val_accuracy: 0.7465\n",
      "Epoch 25/40\n",
      "1328/1328 [==============================] - 6s 5ms/step - loss: 0.1150 - accuracy: 0.7580 - val_loss: 0.1183 - val_accuracy: 0.7483\n",
      "Epoch 26/40\n",
      "1328/1328 [==============================] - 6s 4ms/step - loss: 0.1145 - accuracy: 0.7615 - val_loss: 0.1188 - val_accuracy: 0.7444\n",
      "Epoch 27/40\n",
      "1328/1328 [==============================] - 6s 5ms/step - loss: 0.1140 - accuracy: 0.7630 - val_loss: 0.1166 - val_accuracy: 0.7505\n",
      "Epoch 28/40\n",
      "1328/1328 [==============================] - 6s 4ms/step - loss: 0.1121 - accuracy: 0.7673 - val_loss: 0.1170 - val_accuracy: 0.7500\n",
      "Epoch 29/40\n",
      "1328/1328 [==============================] - 7s 5ms/step - loss: 0.1115 - accuracy: 0.7684 - val_loss: 0.1172 - val_accuracy: 0.7483\n",
      "Epoch 30/40\n",
      "1328/1328 [==============================] - 6s 5ms/step - loss: 0.1097 - accuracy: 0.7726 - val_loss: 0.1164 - val_accuracy: 0.7485\n",
      "Epoch 31/40\n",
      "1328/1328 [==============================] - 7s 5ms/step - loss: 0.1097 - accuracy: 0.7712 - val_loss: 0.1169 - val_accuracy: 0.7555\n",
      "Epoch 32/40\n",
      "1328/1328 [==============================] - 6s 5ms/step - loss: 0.1081 - accuracy: 0.7780 - val_loss: 0.1170 - val_accuracy: 0.7531\n",
      "Epoch 33/40\n",
      "1328/1328 [==============================] - 6s 4ms/step - loss: 0.1068 - accuracy: 0.7787 - val_loss: 0.1180 - val_accuracy: 0.7496\n",
      "Epoch 34/40\n",
      "1328/1328 [==============================] - 7s 5ms/step - loss: 0.1061 - accuracy: 0.7810 - val_loss: 0.1169 - val_accuracy: 0.7532\n",
      "Epoch 35/40\n",
      "1328/1328 [==============================] - 6s 5ms/step - loss: 0.1050 - accuracy: 0.7816 - val_loss: 0.1163 - val_accuracy: 0.7555\n",
      "Epoch 36/40\n",
      "1328/1328 [==============================] - 6s 4ms/step - loss: 0.1041 - accuracy: 0.7851 - val_loss: 0.1170 - val_accuracy: 0.7572\n",
      "Epoch 37/40\n",
      "1328/1328 [==============================] - 6s 5ms/step - loss: 0.1030 - accuracy: 0.7872 - val_loss: 0.1164 - val_accuracy: 0.7553\n",
      "Epoch 38/40\n",
      "1328/1328 [==============================] - 6s 5ms/step - loss: 0.1026 - accuracy: 0.7908 - val_loss: 0.1164 - val_accuracy: 0.7559\n",
      "Epoch 39/40\n",
      "1328/1328 [==============================] - 7s 6ms/step - loss: 0.1012 - accuracy: 0.7913 - val_loss: 0.1167 - val_accuracy: 0.7557\n",
      "Epoch 40/40\n",
      "1328/1328 [==============================] - 7s 5ms/step - loss: 0.1001 - accuracy: 0.7940 - val_loss: 0.1163 - val_accuracy: 0.7579\n"
     ]
    }
   ],
   "source": [
    "train_steps_per_epoch = X_train.shape[0] // BATCH_SIZE\n",
    "val_steps_per_epoch = X_val.shape[0] // BATCH_SIZE\n",
    "\n",
    "history = model.fit_generator(train_generator,\n",
    "                              steps_per_epoch=train_steps_per_epoch,\n",
    "                              validation_data=val_generator,\n",
    "                              validation_steps=val_steps_per_epoch,\n",
    "                              epochs=EPOCHS,\n",
    "                              verbose=1)"
   ]
  },
  {
   "cell_type": "code",
   "execution_count": 17,
   "metadata": {
    "execution": {
     "iopub.execute_input": "2020-09-10T12:03:08.731675Z",
     "iopub.status.busy": "2020-09-10T12:03:08.731029Z",
     "iopub.status.idle": "2020-09-10T12:03:09.416453Z",
     "shell.execute_reply": "2020-09-10T12:03:09.415592Z"
    },
    "papermill": {
     "duration": 2.409109,
     "end_time": "2020-09-10T12:03:09.416572",
     "exception": false,
     "start_time": "2020-09-10T12:03:07.007463",
     "status": "completed"
    },
    "tags": []
   },
   "outputs": [
    {
     "data": {
      "image/png": "[encoded data removed]",
      "text/plain": [
       "<Figure size 1080x360 with 2 Axes>"
      ]
     },
     "metadata": {
      "needs_background": "light"
     },
     "output_type": "display_data"
    }
   ],
   "source": [
    "f, (ax1, ax2) = plt.subplots(1, 2, figsize=(15, 5))\n",
    "t = f.suptitle('Deep Neural Net Performance', fontsize=12)\n",
    "f.subplots_adjust(top=0.85, wspace=0.3)\n",
    "\n",
    "epochs = list(range(1,EPOCHS+1))\n",
    "ax1.plot(epochs, history.history['accuracy'], label='Train Accuracy')\n",
    "ax1.plot(epochs, history.history['val_accuracy'], label='Validation Accuracy')\n",
    "ax1.set_xticks(epochs)\n",
    "ax1.set_ylabel('Accuracy Value')\n",
    "ax1.set_xlabel('Epoch')\n",
    "ax1.set_title('Accuracy')\n",
    "l1 = ax1.legend(loc=\"best\")\n",
    "\n",
    "ax2.plot(epochs, history.history['loss'], label='Train Loss')\n",
    "ax2.plot(epochs, history.history['val_loss'], label='Validation Loss')\n",
    "ax2.set_xticks(epochs)\n",
    "ax2.set_ylabel('Loss Value')\n",
    "ax2.set_xlabel('Epoch')\n",
    "ax2.set_title('Loss')\n",
    "l2 = ax2.legend(loc=\"best\")"
   ]
  }
 ],
 "metadata": {
  "kernelspec": {
   "display_name": "Python 3",
   "language": "python",
   "name": "python3"
  },
  "language_info": {
   "codemirror_mode": {
    "name": "ipython",
    "version": 3
   },
   "file_extension": ".py",
   "mimetype": "text/x-python",
   "name": "python",
   "nbconvert_exporter": "python",
   "pygments_lexer": "ipython3",
   "version": "3.7.6"
  },
  "papermill": {
   "duration": 292.095562,
   "end_time": "2020-09-10T12:03:12.216411",
   "environment_variables": {},
   "exception": null,
   "input_path": "__notebook__.ipynb",
   "output_path": "__notebook__.ipynb",
   "parameters": {},
   "start_time": "2020-09-10T11:58:20.120849",
   "version": "2.1.0"
  }
 },
 "nbformat": 4,
 "nbformat_minor": 4
}
