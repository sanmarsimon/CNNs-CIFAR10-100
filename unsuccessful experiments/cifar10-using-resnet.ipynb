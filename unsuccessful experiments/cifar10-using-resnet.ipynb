{
 "cells": [
  {
   "cell_type": "code",
   "execution_count": 1,
   "metadata": {
    "_cell_guid": "b1076dfc-b9ad-4769-8c92-a6c4dae69d19",
    "_uuid": "8f2839f25d086af736a60e9eeb907d3b93b6e0e5"
   },
   "outputs": [
    {
     "name": "stdout",
     "output_type": "stream",
     "text": [
      "/kaggle/input/cifar10-pytorch/cifar10_pytorch/data/cifar-10-python.tar.gz\n",
      "/kaggle/input/cifar10-pytorch/cifar10_pytorch/data/cifar-10-batches-py/data_batch_1\n",
      "/kaggle/input/cifar10-pytorch/cifar10_pytorch/data/cifar-10-batches-py/data_batch_2\n",
      "/kaggle/input/cifar10-pytorch/cifar10_pytorch/data/cifar-10-batches-py/data_batch_4\n",
      "/kaggle/input/cifar10-pytorch/cifar10_pytorch/data/cifar-10-batches-py/data_batch_5\n",
      "/kaggle/input/cifar10-pytorch/cifar10_pytorch/data/cifar-10-batches-py/test_batch\n",
      "/kaggle/input/cifar10-pytorch/cifar10_pytorch/data/cifar-10-batches-py/readme.html\n",
      "/kaggle/input/cifar10-pytorch/cifar10_pytorch/data/cifar-10-batches-py/batches.meta\n",
      "/kaggle/input/cifar10-pytorch/cifar10_pytorch/data/cifar-10-batches-py/data_batch_3\n",
      "/kaggle/input/resnet50/resnet50.pth\n"
     ]
    }
   ],
   "source": [
    "import os\n",
    "for dirname, _, filenames in os.walk('/kaggle/input'):\n",
    "    for filename in filenames:\n",
    "        print(os.path.join(dirname, filename))"
   ]
  },
  {
   "cell_type": "code",
   "execution_count": 2,
   "metadata": {
    "_cell_guid": "79c7e3d0-c299-4dcb-8224-4455121ee9b0",
    "_uuid": "d629ff2d2480ee46fbb7e2d37f6b5fab8052498a"
   },
   "outputs": [],
   "source": [
    "%matplotlib inline\n",
    "import torch\n",
    "import torchvision\n",
    "import torchvision.transforms as transforms\n",
    "import torch.nn as nn\n",
    "import torch.nn.functional as F\n",
    "import torch.optim as optim\n",
    "# The following is to downlaod and use pretrained models from the model-zoo\n",
    "import torchvision.models as models\n",
    "#--------------------------------------------------------------------------\n",
    "import numpy as np\n",
    "import matplotlib.pyplot as plt\n",
    "from tqdm import tqdm"
   ]
  },
  {
   "cell_type": "code",
   "execution_count": 3,
   "metadata": {},
   "outputs": [
    {
     "name": "stdout",
     "output_type": "stream",
     "text": [
      "cuda\n"
     ]
    }
   ],
   "source": [
    "# Initializing Hyperparameters\n",
    "batch_size = 256\n",
    "# Learning rate\n",
    "lr = 0.001\n",
    "# Number of training epochs\n",
    "num_epochs = 5\n",
    "# Device configuration\n",
    "device = torch.device(\"cuda\" if torch.cuda.is_available() else \"cpu\")\n",
    "print(device)"
   ]
  },
  {
   "cell_type": "code",
   "execution_count": 4,
   "metadata": {},
   "outputs": [
    {
     "name": "stdout",
     "output_type": "stream",
     "text": [
      "cifar-10-batches-py/\r\n",
      "cifar-10-batches-py/data_batch_4\r\n",
      "cifar-10-batches-py/readme.html\r\n",
      "cifar-10-batches-py/test_batch\r\n",
      "cifar-10-batches-py/data_batch_3\r\n",
      "cifar-10-batches-py/batches.meta\r\n",
      "cifar-10-batches-py/data_batch_2\r\n",
      "cifar-10-batches-py/data_batch_5\r\n",
      "cifar-10-batches-py/data_batch_1\r\n"
     ]
    },
    {
     "data": {
      "text/plain": [
       "['__output__.json', '__notebook__.ipynb', 'cifar-10-batches-py']"
      ]
     },
     "execution_count": 4,
     "metadata": {},
     "output_type": "execute_result"
    }
   ],
   "source": [
    "!tar -zxvf ../input/cifar10-pytorch/cifar10_pytorch/data/cifar-10-python.tar.gz\n",
    "os.listdir('.')"
   ]
  },
  {
   "cell_type": "code",
   "execution_count": 5,
   "metadata": {},
   "outputs": [],
   "source": [
    "normalize = transforms.Normalize(\n",
    "   mean=[0.485, 0.456, 0.406],\n",
    "   std=[0.229, 0.224, 0.225]\n",
    ")\n",
    "trans = transforms.Compose([transforms.Resize(224), transforms.CenterCrop(224), transforms.ToTensor(),normalize])\n",
    "\n",
    "trainset = torchvision.datasets.CIFAR10(root='.', train=True, download=False, transform=trans)\n",
    "trainloader = torch.utils.data.DataLoader(trainset, batch_size=batch_size, shuffle=True, num_workers=2)\n",
    "\n",
    "testset = torchvision.datasets.CIFAR10(root='.', train=False, download=False, transform=trans)\n",
    "testloader = torch.utils.data.DataLoader(testset, batch_size=2*batch_size, shuffle=False, num_workers=2)"
   ]
  },
  {
   "cell_type": "code",
   "execution_count": 6,
   "metadata": {},
   "outputs": [],
   "source": [
    "#CLASSES IN CIFAR10\n",
    "classes = ('plane', 'car', 'bird', 'cat', 'deer', 'dog', 'frog', 'horse', 'ship', 'truck')"
   ]
  },
  {
   "cell_type": "code",
   "execution_count": 7,
   "metadata": {},
   "outputs": [
    {
     "name": "stderr",
     "output_type": "stream",
     "text": [
      "Downloading: \"https://download.pytorch.org/models/resnet50-19c8e357.pth\" to /tmp/.cache/torch/checkpoints/resnet50-19c8e357.pth\n",
      "100%|██████████| 97.8M/97.8M [00:03<00:00, 30.6MB/s]\n"
     ]
    }
   ],
   "source": [
    "# Download the pretrained Resnet50 model and load it to the device (GPU)\n",
    "resnet50 = models.resnet50(pretrained=True)\n",
    "resnet50.load_state_dict(torch.load(\"../input/resnet50/resnet50.pth\"))\n",
    "resnet50 = resnet50.to(device)\n",
    "#Make sure to swith-on the internet option in the Workspace"
   ]
  },
  {
   "cell_type": "code",
   "execution_count": 8,
   "metadata": {},
   "outputs": [],
   "source": [
    "# Freeze the layers\n",
    "for param in resnet50.parameters():\n",
    "    param.requires_grad = False"
   ]
  },
  {
   "cell_type": "code",
   "execution_count": 9,
   "metadata": {},
   "outputs": [],
   "source": [
    "# Change the last layer to cifar10 number of output classes.\n",
    "# Also unfreeze the penultimate layer. We will finetune just these two layers.\n",
    "resnet50.fc = nn.Sequential(\n",
    "                      nn.Linear(2048, 256), \n",
    "                      nn.ReLU(), \n",
    "                      nn.Linear(256, 10)\n",
    ")"
   ]
  },
  {
   "cell_type": "code",
   "execution_count": 10,
   "metadata": {},
   "outputs": [],
   "source": [
    "criterion = nn.CrossEntropyLoss()\n",
    "optimizer = optim.Adam(resnet50.parameters(), lr=0.001)"
   ]
  },
  {
   "cell_type": "code",
   "execution_count": 11,
   "metadata": {},
   "outputs": [
    {
     "name": "stderr",
     "output_type": "stream",
     "text": [
      "Processing epoch 0 minibatch 196 train loss 0.784: 100%|██████████| 196/196 [01:45<00:00,  2.60it/s]\n",
      "Processing epoch 1 minibatch 196 train loss 0.572: 100%|██████████| 196/196 [01:57<00:00,  2.42it/s]\n",
      "Processing epoch 2 minibatch 196 train loss 0.546: 100%|██████████| 196/196 [01:45<00:00,  2.63it/s]\n",
      "Processing epoch 3 minibatch 196 train loss 0.526: 100%|██████████| 196/196 [01:52<00:00,  2.59it/s]\n",
      "Processing epoch 4 minibatch 196 train loss 0.501: 100%|██████████| 196/196 [01:56<00:00,  2.41it/s]"
     ]
    },
    {
     "name": "stdout",
     "output_type": "stream",
     "text": [
      "Finished Training\n"
     ]
    },
    {
     "name": "stderr",
     "output_type": "stream",
     "text": [
      "\n"
     ]
    }
   ],
   "source": [
    "#TRAINING THE NETWORK\n",
    "\n",
    "resnet50 = resnet50.to(device)\n",
    "for epoch in range(num_epochs):  # loop over the dataset multiple times\n",
    "    running_loss = 0.0\n",
    "    pbar = tqdm(trainloader)\n",
    "    i = 0\n",
    "    for data in pbar:\n",
    "        # get the inputs\n",
    "        inputs, labels = data\n",
    "        inputs = inputs.to(device)\n",
    "        labels = labels.to(device)\n",
    "\n",
    "        # zero the parameter gradients\n",
    "        optimizer.zero_grad()\n",
    "\n",
    "        # forward + backward + optimize\n",
    "        outputs = resnet50(inputs)\n",
    "        loss = criterion(outputs, labels)\n",
    "        loss.backward()\n",
    "        optimizer.step()\n",
    "\n",
    "        # print statistics\n",
    "        running_loss += loss.item()\n",
    "        \n",
    "        pbar.set_description(\"Processing epoch {:d} minibatch {:d} train loss {:.3f}\".format(epoch,\\\n",
    "                                                            i+1, running_loss/(i+1)))\n",
    "        i += 1\n",
    "\n",
    "print('Finished Training')"
   ]
  },
  {
   "cell_type": "code",
   "execution_count": 12,
   "metadata": {},
   "outputs": [
    {
     "name": "stderr",
     "output_type": "stream",
     "text": [
      "minibatch 20 test accuracy 81.82%: 100%|██████████| 20/20 [00:22<00:00,  1.21it/s]"
     ]
    },
    {
     "name": "stdout",
     "output_type": "stream",
     "text": [
      "Accuracy of the network on the 10000 test images: 81.82 %\n"
     ]
    },
    {
     "name": "stderr",
     "output_type": "stream",
     "text": [
      "\n"
     ]
    }
   ],
   "source": [
    "correct = 0\n",
    "total = 0\n",
    "i = 0\n",
    "with torch.no_grad():\n",
    "    pbar = tqdm(testloader)\n",
    "    for data in pbar:\n",
    "        images, labels = data\n",
    "        images = images.to(device)\n",
    "        labels = labels.to(device)\n",
    "        outputs = resnet50(images)\n",
    "        _, predicted = torch.max(outputs.data, 1)\n",
    "        total += labels.size(0)\n",
    "        correct += (predicted == labels).sum().item()\n",
    "        pbar.set_description(\"minibatch {:d} test accuracy {:4.2f}%\".format(i+1,\\\n",
    "                                                            100.0*correct/total))\n",
    "        i += 1\n",
    "\n",
    "print('Accuracy of the network on the 10000 test images: %4.2f %%' % (100.0 * correct / total))"
   ]
  },
  {
   "cell_type": "code",
   "execution_count": null,
   "metadata": {},
   "outputs": [],
   "source": []
  }
 ],
 "metadata": {
  "kernelspec": {
   "display_name": "Python 3",
   "language": "python",
   "name": "python3"
  },
  "language_info": {
   "codemirror_mode": {
    "name": "ipython",
    "version": 3
   },
   "file_extension": ".py",
   "mimetype": "text/x-python",
   "name": "python",
   "nbconvert_exporter": "python",
   "pygments_lexer": "ipython3",
   "version": "3.6.6"
  }
 },
 "nbformat": 4,
 "nbformat_minor": 1
}
